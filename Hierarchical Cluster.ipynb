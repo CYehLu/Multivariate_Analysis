{
 "cells": [
  {
   "cell_type": "code",
   "execution_count": 1,
   "metadata": {
    "collapsed": true
   },
   "outputs": [],
   "source": [
    "%matplotlib inline\n",
    "import matplotlib.pyplot as plt\n",
    "plt.style.use('seaborn')"
   ]
  },
  {
   "cell_type": "markdown",
   "metadata": {
    "collapsed": true
   },
   "source": [
    "# Build a class of Hierarchical Cluster"
   ]
  },
  {
   "cell_type": "code",
   "execution_count": 126,
   "metadata": {
    "collapsed": true
   },
   "outputs": [],
   "source": [
    "import numpy as np\n",
    "from scipy.spatial import distance_matrix\n",
    "\n",
    "class HierarchicalCluster():\n",
    "    def __init__(self, data, method='single'):\n",
    "        \"\"\"\n",
    "        input\n",
    "        -----\n",
    "        data: data should be a two dimension array with shape = (M, N). \n",
    "              M represent to number of observation data, and N represent to data dimensional.\n",
    "        method: type of string. it can be 'single', 'complete', 'average', or 'centroid'.\n",
    "        \"\"\"\n",
    "        # check data dimension\n",
    "        if len(data.shape) != 2:\n",
    "            raise ValueError('data must be 2 dimensional.')\n",
    "        else:\n",
    "            self.data = data\n",
    "        \n",
    "        # check method\n",
    "        if method not in ['single', 'complete', 'average', 'centroid', 'ward']:\n",
    "            raise Exception(\n",
    "                'Invalid method \"{}\". Shoule be \"single\", \"complete\", \"average\", \"centroid\" or \"ward\".'.format(method))\n",
    "        else:\n",
    "            self.method = method\n",
    "            \n",
    "        # creat a dictionary to store the history of clusters evolution\n",
    "        self.clusters = {}\n",
    "        \n",
    "        # \"rmsttd\", \"rs\" and \"spr\" would be a array with len = (N-1) after \"fit\" has been used.\n",
    "        self.rmsstd = np.nan\n",
    "        self.rs = np.nan\n",
    "        self.spr = np.nan\n",
    "    \n",
    "    \n",
    "    def __single_linkage(slef, cl1, cl2):\n",
    "        \"\"\"\n",
    "        cl1 and cl2 should be two dimensional array.\n",
    "\n",
    "        EX:\n",
    "        cl1 = np.array([[1, 2],\n",
    "                        [3, 4]])\n",
    "        cl2 = np.array([[2, 4],\n",
    "                        [5, 1]])\n",
    "        then self.__single_linkage(cl1, cl2) = 1.0\n",
    "        because the distance between [1, 2] and [2, 4] is sqrt(5)\n",
    "        between [1, 2] and [5, 1] is sqrt(17)\n",
    "        between [3, 4] and [2, 4] is 1.0\n",
    "        between [3, 4] and [5, 1] is sqrt(13),\n",
    "        thus the single linkage method is 1.0\n",
    "        \"\"\"\n",
    "        return distance_matrix(cl1, cl2).min()\n",
    "    \n",
    "    \n",
    "    def __complete_linkage(self, cl1, cl2):\n",
    "        \"\"\"\n",
    "        cl1 and cl2 should be two dimensional array\n",
    "        \"\"\"\n",
    "        return distance_matrix(cl1, cl2).max()\n",
    "    \n",
    "    \n",
    "    def __average_linkage(self, cl1, cl2):\n",
    "        \"\"\"\n",
    "        cl1 and cl2 should be two dimensional array\n",
    "        \"\"\"\n",
    "        return distance_matrix(cl1, cl2).mean()\n",
    "    \n",
    "    \n",
    "    def __centroid_method(self, cl1, cl2):\n",
    "        \"\"\"\n",
    "        cl1 and cl2 should be two dimensional array\n",
    "        \"\"\"\n",
    "        #return distance_matrix(cl1.mean(axis=0)[np.newaxis, :], cl2.mean(axis=0)[np.newaxis, :])[0][0]\n",
    "        # above way can work excatly, but I prefer to the way below because of the readabillity\n",
    "        \n",
    "        # get mean coordinate of cl1, cl2 and transfer them to two dimention (1, N)\n",
    "        cl1_mean = cl1.mean(axis=0)[np.newaxis, :]\n",
    "        cl2_mean = cl2.mean(axis=0)[np.newaxis, :]\n",
    "        return np.sqrt(((cl1_mean - cl2_mean) ** 2).sum())\n",
    "    \n",
    "    \n",
    "    def __ward(self, cl1, cl2):\n",
    "        \"\"\"\n",
    "        cl1 and cl2 should be two dimensional array\n",
    "        \n",
    "        use the Lance–Williams algorithms\n",
    "        formula: https://wikimedia.org/api/rest_v1/media/math/render/svg/a9a1b598cb084bc677269e164fedd1380c55d52e\n",
    "        from Ward's method of wiki\n",
    "        \"\"\"\n",
    "        if len(cl1.shape) == 1:\n",
    "            cl1 = cl1[np.newaxis, :]\n",
    "        elif len(cl2.shape) == 1:\n",
    "            cl2 = cl2[np.newaxis, :]\n",
    "\n",
    "        if cl1.shape[0] != 1:\n",
    "            nk = cl2.shape[0]\n",
    "            ni = cl1[1:].shape[0]\n",
    "            nj = cl1[[0]].shape[0]\n",
    "            a1 = (nk + ni) / (nk + ni + nj)\n",
    "            a2 = (nk + nj) / (nk + ni + nj)\n",
    "            g = nk / (nk + ni + nj)\n",
    "            return np.sqrt(a1 * ward(cl1[1:], cl2)**2 + a2 * ward(cl1[[0]], cl2)**2 - g * ward(cl1[1:], cl1[[0]])**2)\n",
    "        elif cl2.shape[0] != 1:\n",
    "            nk = cl1.shape[0]\n",
    "            ni = cl2[1:].shape[0]\n",
    "            nj = cl2[[0]].shape[0]\n",
    "            a1 = (nk + ni) / (nk + ni + nj)\n",
    "            a2 = (nk + nj) / (nk + ni + nj)\n",
    "            g = nk / (nk + ni + nj)\n",
    "            return np.sqrt(a1 * ward(cl1, cl2[1:])**2 + a2 * ward(cl1, cl2[[0]])**2 - g * ward(cl2[1:], cl2[[0]])**2)\n",
    "        else:\n",
    "            return np.sqrt(((cl1 - cl2) ** 2).sum())\n",
    "    \n",
    "    \n",
    "    def __RMSSTD(slef, cl1, cl2):\n",
    "        \"\"\"\n",
    "        claculate root-mean-square-total-sample standard deviation, RMSSTD.\n",
    "        \n",
    "        cl1 and cl2 should be two dimensional array\n",
    "        \"\"\"\n",
    "        new_clu = np.vstack((cl1, cl2))\n",
    "        ndegree = new_clu.shape[0] - 1\n",
    "        return np.sqrt(((new_clu - new_clu.mean(axis=0)) ** 2).sum() / (2 * ndegree))\n",
    "    \n",
    "    \n",
    "    def __RS(self, cls, all_data):\n",
    "        \"\"\"\n",
    "        calculate R-Squared.\n",
    "        \n",
    "        cls: a list of two-dimensional array. elements in list means all clusters, \n",
    "             and every 2-d array means datas in a cluster\n",
    "        all_data: all data\n",
    "\n",
    "        EX:\n",
    "        cls = [np.array([[5, 5], [6, 6]]), np.array([[15, 14], [16, 15], [25, 20], [30, 19]])]\n",
    "        data = np.array([[5, 5], [6, 6], [15, 14], [16, 15], [25, 20], [30, 19]])\n",
    "        RS(cls, data)\n",
    "        >> 0.7377\n",
    "        \"\"\"\n",
    "        SSw = 0\n",
    "        for c in cls:\n",
    "            SSw += ((c - c.mean(axis=0)) ** 2).sum()\n",
    "\n",
    "        SSt = ((all_data - all_data.mean(axis=0)) ** 2).sum()\n",
    "\n",
    "        return 1 - SSw/SSt\n",
    "    \n",
    "    \n",
    "    def __SPR(self, old_cl1, old_cl2, all_data):\n",
    "        \"\"\"\n",
    "        calculate semipartial R-squared\n",
    "\n",
    "        Parameters\n",
    "        ----------\n",
    "        old_cl1, old_cl2: two old clusters which form the new cluster. they should be 1- \n",
    "                          or 2-d array. if 2-d, shape[0] means the number of datas in\n",
    "                          the cluster, and shape[1] means the dimension.\n",
    "                          if 1-d, it means that there is only one data in the cluster, and\n",
    "                          the shape means the dimention\n",
    "        all_data: all data\n",
    "\n",
    "        EX:\n",
    "        old1 = np.array([[15, 14], [16, 15]])\n",
    "        old2 = np.array([[25, 20], [30, 19]])\n",
    "        data = np.array([[5, 5], [6, 6], [15, 14], [16, 15], [25, 20], [30, 19]])\n",
    "        SPR(old1, old2, data)\n",
    "        >>> 0.2409\n",
    "        \"\"\"\n",
    "        new_cl = np.vstack((old_cl1, old_cl2))\n",
    "        \n",
    "        new_ssw = ((new_cl - new_cl.mean(axis=0)) ** 2).sum()\n",
    "        old1_ssw = ((old_cl1 - old_cl1.mean(axis=0)) ** 2).sum()\n",
    "        old2_ssw = ((old_cl2 - old_cl2.mean(axis=0)) ** 2).sum()\n",
    "\n",
    "        SSt = ((all_data - all_data.mean(axis=0)) ** 2).sum()\n",
    "\n",
    "        return (new_ssw - (old1_ssw+old2_ssw)) / SSt\n",
    "    \n",
    "    \n",
    "    def __CD(self, cl1, cl2, ward=False):\n",
    "        \"\"\"\n",
    "        calculate Centroid Distance\n",
    "        \n",
    "        Parameters\n",
    "        ----------\n",
    "        cl1, cl2: two old clusters which form the new cluster. they should be 2-d\n",
    "                  array, shape[0] means the number of datas in the cluster, and \n",
    "                  shape[1] means the dimension.\n",
    "        ward: boolen. to determine whether the clusters are connected by ward's method.\n",
    "              default is False.\n",
    "        \n",
    "        EX:\n",
    "        cl1 = np.array([[15, 14], [16, 15]])\n",
    "        cl2 = np.array([[25, 20], [30, 19]])\n",
    "        CD(cl1, cl2)\n",
    "        >> 13.0\n",
    "        \"\"\"\n",
    "        if len(cl1.shape) == 1:\n",
    "            cl1 = cl1[np.newaxis, :]\n",
    "        elif len(cl2.shape) == 1:\n",
    "            cl2 = cl2[np.newaxis, :]\n",
    "        \n",
    "        if not ward:\n",
    "            centroid_cl1 = cl1.mean(axis=0)\n",
    "            centroid_cl2 = cl2.mean(axis=0)\n",
    "            return np.sqrt(((centroid_cl1 - centroid_cl2) ** 2).sum())\n",
    "        else:\n",
    "            n1 = cl1.shape[0]\n",
    "            n2 = cl2.shape[0]\n",
    "            cl_new = np.vstack((cl1, cl2))\n",
    "\n",
    "            cl1_dist_mean = ((cl1.mean(axis=0)-cl_new.mean(axis=0)) ** 2).sum()\n",
    "            cl2_dist_mean = ((cl2.mean(axis=0)-cl_new.mean(axis=0)) ** 2).sum()\n",
    "            return np.sqrt(n1 * cl1_dist_mean + n2 * cl2_dist_mean)\n",
    "        \n",
    "        \n",
    "    def fit(self, iter_info=True):\n",
    "        # decide which method would be use in determination the distance of two clusters\n",
    "        if self.method == 'single':\n",
    "            dist_func = self.__single_linkage\n",
    "        elif self.method == 'complete':\n",
    "            dist_func = self.__complete_linkage\n",
    "        elif self.method == 'average':\n",
    "            dist_func = self.__average_linkage\n",
    "        elif self.method == 'centroid':\n",
    "            dist_func = self.__centroid_method\n",
    "        elif self.method == 'ward':\n",
    "            dist_func = self.__ward\n",
    "        \n",
    "        # the return matrix \"Z\"\n",
    "        # 4 cols represent the two clusters which form the new cluster, their distance, and number of elements\n",
    "        Z = np.zeros((self.data.shape[0]-1, 4))\n",
    "        \n",
    "        # the RMSSTD, RS, SPR and CD of each iteration\n",
    "        self.rmsstd = np.zeros(Z.shape[0])\n",
    "        self.rs = np.zeros(Z.shape[0])\n",
    "        self.spr = np.zeros(Z.shape[0])\n",
    "        self.cd = np.zeros(Z.shape[0])\n",
    "        \n",
    "        # make a dictionary to store every historical clusters element. and initial clusters is the elements of data\n",
    "        clusters = {'CL' + str(i): [i] for i in range(self.data.shape[0])}\n",
    "        \n",
    "        \n",
    "        # do the first clustering\n",
    "        data = self.data.copy()\n",
    "        dma = distance_matrix(data, data)\n",
    "        dma[dma == 0] = np.nan\n",
    "        ## find the distance \"min_dist\" and the couple of clusters \"min_dist_cl\" which has the minimum distance\n",
    "        min_dist = np.nanmin(dma)\n",
    "        min_dist_cl = np.unravel_index(np.nanargmin(dma), dma.shape)\n",
    "        \n",
    "        ## update Z\n",
    "        Z[0, :] = np.array([min_dist_cl[0], min_dist_cl[1], min_dist, 2])\n",
    "        ## update clusters dictionary\n",
    "        clusters['CL' + str(self.data.shape[0])] = [min_dist_cl[0], min_dist_cl[1]]\n",
    "        ## creat \"cl_now\" to store all the clusters now after new cluster having formed\n",
    "        cl_now = ([[min_dist_cl[0], min_dist_cl[1]]] + \n",
    "                   [[i] for i in range(self.data.shape[0]) if i != int(min_dist_cl[0]) and i != int(min_dist_cl[1])])\n",
    "        ## update self.rmsttd, self.rs, self.spr and self.cd\n",
    "        self.rmsstd[0] = self.__RMSSTD(self.data[min_dist_cl[0]], self.data[min_dist_cl[1]])\n",
    "        self.rs[0] = self.__RS([self.data[cn] for cn in cl_now], self.data)\n",
    "        self.spr[0] = self.__SPR(self.data[min_dist_cl[0]], self.data[min_dist_cl[1]], self.data)\n",
    "        self.cd[0] = self.__CD(self.data[min_dist_cl[0]], self.data[min_dist_cl[1]])\n",
    "        \n",
    "        ## print iterate information\n",
    "        if iter_info:\n",
    "            print('Step 0:')\n",
    "            print('clusters:\\n', clusters)\n",
    "            print('cl_now:\\n', cl_now)\n",
    "            print('Z:\\n', Z)\n",
    "        \n",
    "        \n",
    "        # do the remain clustering\n",
    "        for i in range(self.data.shape[0]-2):\n",
    "            ## find the minimum distance between all clusters in \"cl_now\"\n",
    "            min_dist = dist_func(self.data[cl_now[0]], self.data[cl_now[1]])\n",
    "            min_dist_cl = [cl_now[0], cl_now[1]]\n",
    "            for j in range(len(cl_now)):\n",
    "                for k in range(j+1, len(cl_now)):\n",
    "                    if dist_func(self.data[cl_now[j]], self.data[cl_now[k]]) < min_dist:\n",
    "                        min_dist = dist_func(self.data[cl_now[j]], self.data[cl_now[k]])\n",
    "                        min_dist_cl = [cl_now[j], cl_now[k]]\n",
    "            \n",
    "            ## update the clusters dictionary \"clusters\". min_dist_cl[0] and min_dist_cl[1] form \"new_from_cluster\"\n",
    "            new_form_cluster = sorted([l for sublist in min_dist_cl for l in sublist])\n",
    "            clusters['CL' + str(i + 1 + self.data.shape[0])] = new_form_cluster\n",
    "            \n",
    "            ## update the clusters now \"cl_now\"\n",
    "            cl_now.remove(min_dist_cl[0])\n",
    "            cl_now.remove(min_dist_cl[1])\n",
    "            cl_now.append(new_form_cluster)\n",
    "            \n",
    "            ## update Z\n",
    "            ### 1. find the cluster id of \"min_dist_cl\"\n",
    "            for clid, cls in clusters.items():\n",
    "                if cls == min_dist_cl[0]:\n",
    "                    id1 = float(clid[2:])\n",
    "                elif cls == min_dist_cl[1]:\n",
    "                    id2 = float(clid[2:])\n",
    "            ### 2. update Z\n",
    "            Z[i+1, :] = np.array([id1, id2, min_dist, len(clusters['CL' + str(self.data.shape[0] + i + 1)])])\n",
    "            \n",
    "            ## update RMSSTD, RS, SPR and CD\n",
    "            self.rmsstd[i+1] = self.__RMSSTD(self.data[min_dist_cl[0]], self.data[min_dist_cl[1]])\n",
    "            self.rs[i+1] = self.__RS([self.data[cn] for cn in cl_now], self.data)\n",
    "            self.spr[i+1] = self.__SPR(self.data[min_dist_cl[0]], self.data[min_dist_cl[1]], self.data)\n",
    "            self.cd[i+1] = self.__CD(self.data[min_dist_cl[0]], self.data[min_dist_cl[1]])\n",
    "            \n",
    "            ## print iterate information\n",
    "            if iter_info:\n",
    "                print('\\nStep {}'.format(i + 1))\n",
    "                print('clusters:\\n', clusters)\n",
    "                print('cl_now:\\n', cl_now)\n",
    "                print('Z:\\n', Z)\n",
    "                \n",
    "        self.clusters = clusters\n",
    "        return Z"
   ]
  },
  {
   "cell_type": "markdown",
   "metadata": {},
   "source": [
    "### test this class and compare to scipy"
   ]
  },
  {
   "cell_type": "code",
   "execution_count": 127,
   "metadata": {},
   "outputs": [
    {
     "data": {
      "text/plain": [
       "array([[ 5,  5],\n",
       "       [ 6,  6],\n",
       "       [15, 14],\n",
       "       [16, 15],\n",
       "       [25, 20],\n",
       "       [30, 19]])"
      ]
     },
     "execution_count": 127,
     "metadata": {},
     "output_type": "execute_result"
    }
   ],
   "source": [
    "data = np.array([\n",
    "    [5, 5],\n",
    "    [6, 6],\n",
    "    [15, 14],\n",
    "    [16, 15],\n",
    "    [25, 20],\n",
    "    [30, 19]\n",
    "])\n",
    "\n",
    "data"
   ]
  },
  {
   "cell_type": "code",
   "execution_count": 128,
   "metadata": {},
   "outputs": [
    {
     "data": {
      "text/plain": [
       "array([[ 0.        ,  1.        ,  1.41421356,  2.        ],\n",
       "       [ 2.        ,  3.        ,  1.41421356,  2.        ],\n",
       "       [ 4.        ,  5.        ,  5.09901951,  2.        ],\n",
       "       [ 7.        ,  8.        , 18.38477631,  4.        ],\n",
       "       [ 6.        ,  9.        , 32.17659605,  6.        ]])"
      ]
     },
     "execution_count": 128,
     "metadata": {},
     "output_type": "execute_result"
    }
   ],
   "source": [
    "h = HierarchicalCluster(data, method='ward')\n",
    "h.fit(iter_info=False)"
   ]
  },
  {
   "cell_type": "code",
   "execution_count": 120,
   "metadata": {},
   "outputs": [
    {
     "data": {
      "text/plain": [
       "array([[ 0.        ,  1.        ,  1.41421356,  2.        ],\n",
       "       [ 2.        ,  3.        ,  1.41421356,  2.        ],\n",
       "       [ 4.        ,  5.        ,  5.09901951,  2.        ],\n",
       "       [ 7.        ,  8.        , 18.38477631,  4.        ],\n",
       "       [ 6.        ,  9.        , 32.17659605,  6.        ]])"
      ]
     },
     "execution_count": 120,
     "metadata": {},
     "output_type": "execute_result"
    }
   ],
   "source": [
    "from scipy.cluster import hierarchy\n",
    "\n",
    "hierarchy.linkage(data, 'ward')"
   ]
  },
  {
   "cell_type": "code",
   "execution_count": 121,
   "metadata": {},
   "outputs": [
    {
     "name": "stdout",
     "output_type": "stream",
     "text": [
      "RMSSTD:  [0.70710678 0.70710678 2.54950976 5.52268051 8.37655458]\n",
      "RS:      [0.99857482 0.99714964 0.97862233 0.73776722 0.        ]\n",
      "SPR:     [0.00142518 0.00142518 0.01852732 0.24085511 0.73776722]\n",
      "CD:      [ 1.41421356  1.41421356  5.09901951 13.         19.7040605 ]\n"
     ]
    }
   ],
   "source": [
    "print('RMSSTD: ', h.rmsstd)\n",
    "print('RS:     ', h.rs)\n",
    "print('SPR:    ', h.spr)\n",
    "print('CD:     ', h.cd)"
   ]
  },
  {
   "cell_type": "code",
   "execution_count": 122,
   "metadata": {},
   "outputs": [
    {
     "data": {
      "image/png": "[encoded data removed]",
      "text/plain": [
       "<matplotlib.figure.Figure at 0x22dbc9d09e8>"
      ]
     },
     "metadata": {},
     "output_type": "display_data"
    }
   ],
   "source": [
    "fig, ax = plt.subplots(ncols=2, figsize=(12, 5))\n",
    "\n",
    "x = np.array([1, 2, 3, 4, 5])\n",
    "ax[0].plot(x, h.rmsstd[::-1], 'ro-', label='RMSSTD')\n",
    "ax[0].plot(x, h.cd[::-1], 'yo-', label='CD')\n",
    "ax[0].legend(loc='best')\n",
    "ax[0].set_xticks(np.arange(1, 6, 1))\n",
    "ax[0].set_xlabel('Cluster Number')\n",
    "\n",
    "ax[1].plot(x, h.rs[::-1], 'bo-', label='RS')\n",
    "ax[1].plot(x, h.spr[::-1], 'go-', label='SPR')\n",
    "ax[1].legend(loc='best')\n",
    "ax[1].set_xticks(np.arange(1, 6, 1))\n",
    "ax[1].set_xlabel('Cluster Number');"
   ]
  },
  {
   "cell_type": "code",
   "execution_count": null,
   "metadata": {
    "collapsed": true
   },
   "outputs": [],
   "source": []
  },
  {
   "cell_type": "code",
   "execution_count": null,
   "metadata": {
    "collapsed": true
   },
   "outputs": [],
   "source": []
  },
  {
   "cell_type": "code",
   "execution_count": null,
   "metadata": {
    "collapsed": true
   },
   "outputs": [],
   "source": []
  },
  {
   "cell_type": "code",
   "execution_count": 8,
   "metadata": {
    "collapsed": true
   },
   "outputs": [],
   "source": [
    "# 還差ward法，還有補上CD的ward部分"
   ]
  },
  {
   "cell_type": "code",
   "execution_count": 114,
   "metadata": {
    "collapsed": true
   },
   "outputs": [],
   "source": [
    "def ward(cl1, cl2):\n",
    "    \"\"\"\n",
    "    cl1 and cl2 should be two dimensional array\n",
    "    \"\"\"\n",
    "    if len(cl1.shape) == 1:\n",
    "        cl1 = cl1[np.newaxis, :]\n",
    "    elif len(cl2.shape) == 1:\n",
    "        cl2 = cl2[np.newaxis, :]\n",
    "\n",
    "    if cl1.shape[0] != 1:\n",
    "        v = cl2.shape[0]\n",
    "        s = cl1[1:].shape[0]\n",
    "        t = cl1[[0]].shape[0]\n",
    "        a1 = (v + s) / (v + s + t)\n",
    "        a2 = (v + t) / (v + s + t)\n",
    "        g = v / (v + s + t)\n",
    "        return np.sqrt(a1 * ward(cl1[1:], cl2)**2 + a2 * ward(cl1[[0]], cl2)**2 - g * ward(cl1[1:], cl1[[0]])**2)\n",
    "    elif cl2.shape[0] != 1:\n",
    "        v = cl1.shape[0]\n",
    "        s = cl2[1:].shape[0]\n",
    "        t = cl2[[0]].shape[0]\n",
    "        a1 = (v + s) / (v + s + t)\n",
    "        a2 = (v + t) / (v + s + t)\n",
    "        g = v / (v + s + t)\n",
    "        return np.sqrt(a1 * ward(cl1, cl2[1:])**2 + a2 * ward(cl1, cl2[[0]])**2 - g * ward(cl2[1:], cl2[[0]])**2)\n",
    "    else:\n",
    "        return np.sqrt(((cl1 - cl2) ** 2).sum())"
   ]
  },
  {
   "cell_type": "code",
   "execution_count": null,
   "metadata": {
    "collapsed": true
   },
   "outputs": [],
   "source": []
  },
  {
   "cell_type": "code",
   "execution_count": null,
   "metadata": {
    "collapsed": true
   },
   "outputs": [],
   "source": []
  },
  {
   "cell_type": "code",
   "execution_count": 115,
   "metadata": {},
   "outputs": [
    {
     "data": {
      "text/plain": [
       "array([[ 5,  5],\n",
       "       [ 6,  6],\n",
       "       [15, 14],\n",
       "       [16, 15],\n",
       "       [25, 20],\n",
       "       [30, 19]])"
      ]
     },
     "execution_count": 115,
     "metadata": {},
     "output_type": "execute_result"
    }
   ],
   "source": [
    "data"
   ]
  },
  {
   "cell_type": "code",
   "execution_count": 116,
   "metadata": {},
   "outputs": [
    {
     "data": {
      "text/plain": [
       "32.176596049509854"
      ]
     },
     "execution_count": 116,
     "metadata": {},
     "output_type": "execute_result"
    }
   ],
   "source": [
    "ward(data[[0, 1]], data[[4, 5, 2, 3]])"
   ]
  },
  {
   "cell_type": "code",
   "execution_count": null,
   "metadata": {
    "collapsed": true
   },
   "outputs": [],
   "source": []
  },
  {
   "cell_type": "code",
   "execution_count": null,
   "metadata": {
    "collapsed": true
   },
   "outputs": [],
   "source": []
  },
  {
   "cell_type": "code",
   "execution_count": 104,
   "metadata": {},
   "outputs": [
    {
     "data": {
      "text/plain": [
       "14.560219778561036"
      ]
     },
     "execution_count": 104,
     "metadata": {},
     "output_type": "execute_result"
    }
   ],
   "source": [
    "cl1 = np.array([[16, 15]])\n",
    "cl2 = np.array([[30, 19]])\n",
    "\n",
    "np.sqrt(((cl1 - cl2) ** 2).sum())"
   ]
  },
  {
   "cell_type": "code",
   "execution_count": null,
   "metadata": {
    "collapsed": true
   },
   "outputs": [],
   "source": []
  }
 ],
 "metadata": {
  "kernelspec": {
   "display_name": "Python 3",
   "language": "python",
   "name": "python3"
  },
  "language_info": {
   "codemirror_mode": {
    "name": "ipython",
    "version": 3
   },
   "file_extension": ".py",
   "mimetype": "text/x-python",
   "name": "python",
   "nbconvert_exporter": "python",
   "pygments_lexer": "ipython3",
   "version": "3.6.3"
  },
  "varInspector": {
   "cols": {
    "lenName": 16,
    "lenType": 16,
    "lenVar": 40
   },
   "kernels_config": {
    "python": {
     "delete_cmd_postfix": "",
     "delete_cmd_prefix": "del ",
     "library": "var_list.py",
     "varRefreshCmd": "print(var_dic_list())"
    },
    "r": {
     "delete_cmd_postfix": ") ",
     "delete_cmd_prefix": "rm(",
     "library": "var_list.r",
     "varRefreshCmd": "cat(var_dic_list()) "
    }
   },
   "types_to_exclude": [
    "module",
    "function",
    "builtin_function_or_method",
    "instance",
    "_Feature"
   ],
   "window_display": false
  }
 },
 "nbformat": 4,
 "nbformat_minor": 2
}
