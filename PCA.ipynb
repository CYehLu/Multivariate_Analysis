{
 "cells": [
  {
   "cell_type": "code",
   "execution_count": 1,
   "metadata": {
    "collapsed": true
   },
   "outputs": [],
   "source": [
    "import numpy as np\n",
    "import matplotlib.pyplot as plt\n",
    "%matplotlib inline\n",
    "plt.style.use('seaborn')"
   ]
  },
  {
   "cell_type": "markdown",
   "metadata": {},
   "source": [
    "# Step by Step"
   ]
  },
  {
   "cell_type": "code",
   "execution_count": 2,
   "metadata": {
    "collapsed": true
   },
   "outputs": [],
   "source": [
    "x1 = np.array([16, 12, 13, 11, 10, 9, 8, 7, 5, 3, 2, 0])\n",
    "x2 = np.array([8, 10, 6, 2, 8, -1, 4, 6, -3, -1, -3, 0])"
   ]
  },
  {
   "cell_type": "code",
   "execution_count": 3,
   "metadata": {},
   "outputs": [
    {
     "name": "stdout",
     "output_type": "stream",
     "text": [
      "[ 8.  4.  5.  3.  2.  1.  0. -1. -3. -5. -6. -8.]\n",
      "[ 5.  7.  3. -1.  5. -4.  1.  3. -6. -4. -6. -3.]\n"
     ]
    }
   ],
   "source": [
    "x1_m = x1 - x1.mean()\n",
    "x2_m = x2 - x2.mean()\n",
    "print(x1_m)\n",
    "print(x2_m)"
   ]
  },
  {
   "cell_type": "code",
   "execution_count": 4,
   "metadata": {},
   "outputs": [
    {
     "name": "stdout",
     "output_type": "stream",
     "text": [
      "23.09090909090909\n",
      "21.09090909090909\n"
     ]
    }
   ],
   "source": [
    "# 原本各自的變異量，大概各佔50%的總變異量左右\n",
    "print(x1_m.var(ddof=1))\n",
    "print(x2_m.var(ddof=1))"
   ]
  },
  {
   "cell_type": "code",
   "execution_count": 5,
   "metadata": {},
   "outputs": [
    {
     "data": {
      "text/plain": [
       "array([[23.09090909, 16.45454545],\n",
       "       [16.45454545, 21.09090909]])"
      ]
     },
     "execution_count": 5,
     "metadata": {},
     "output_type": "execute_result"
    }
   ],
   "source": [
    "# 計算他們的covariance matrix\n",
    "rm = np.cov(x1_m, x2_m)\n",
    "rm"
   ]
  },
  {
   "cell_type": "code",
   "execution_count": 6,
   "metadata": {},
   "outputs": [
    {
     "data": {
      "text/plain": [
       "array([38.57581328,  5.6060049 ])"
      ]
     },
     "execution_count": 6,
     "metadata": {},
     "output_type": "execute_result"
    }
   ],
   "source": [
    "# 求covariance matrix的特徵值和特徵向量，特徵值代表轉換成新的基底後的各分量變異數，特徵向量代表新的基底\n",
    "eig, eigv = np.linalg.eig(rm)\n",
    "eig"
   ]
  },
  {
   "cell_type": "code",
   "execution_count": 7,
   "metadata": {},
   "outputs": [
    {
     "name": "stdout",
     "output_type": "stream",
     "text": [
      "pc1: [0.72823813 0.68532417]\n",
      "pc2: [-0.68532417  0.72823813]\n",
      "orthogonal: 0.0\n"
     ]
    }
   ],
   "source": [
    "# 新的基底。且新的基底為正交\n",
    "prin1 = eigv[:, 0]\n",
    "prin2 = eigv[:, 1]\n",
    "print('pc1:', prin1)\n",
    "print('pc2:', prin2)\n",
    "print('orthogonal:', prin1.dot(prin2))"
   ]
  },
  {
   "cell_type": "code",
   "execution_count": 8,
   "metadata": {},
   "outputs": [
    {
     "name": "stdout",
     "output_type": "stream",
     "text": [
      "original coordinate\n"
     ]
    },
    {
     "data": {
      "text/plain": [
       "array([[ 8.,  5.],\n",
       "       [ 4.,  7.],\n",
       "       [ 5.,  3.],\n",
       "       [ 3., -1.],\n",
       "       [ 2.,  5.],\n",
       "       [ 1., -4.],\n",
       "       [ 0.,  1.],\n",
       "       [-1.,  3.],\n",
       "       [-3., -6.],\n",
       "       [-5., -4.],\n",
       "       [-6., -6.],\n",
       "       [-8., -3.]])"
      ]
     },
     "execution_count": 8,
     "metadata": {},
     "output_type": "execute_result"
    }
   ],
   "source": [
    "print('original coordinate')\n",
    "np.vstack((x1_m, x2_m)).T"
   ]
  },
  {
   "cell_type": "code",
   "execution_count": 9,
   "metadata": {},
   "outputs": [
    {
     "name": "stdout",
     "output_type": "stream",
     "text": [
      "transform coordinate\n"
     ]
    },
    {
     "data": {
      "text/plain": [
       "array([[ 9.25252593, -1.8414027 ],\n",
       "       [ 7.71022174,  2.35637025],\n",
       "       [ 5.69716318, -1.24190646],\n",
       "       [ 1.49939023, -2.78421065],\n",
       "       [ 4.88309713,  2.27054233],\n",
       "       [-2.01305855, -3.59827671],\n",
       "       [ 0.68532417,  0.72823813],\n",
       "       [ 1.32773438,  2.87003857],\n",
       "       [-6.29665943, -2.31345629],\n",
       "       [-6.38248736,  0.51366832],\n",
       "       [-8.48137383, -0.25748377],\n",
       "       [-7.88187759,  3.29787897]])"
      ]
     },
     "execution_count": 9,
     "metadata": {},
     "output_type": "execute_result"
    }
   ],
   "source": [
    "print('transform coordinate')\n",
    "Iv_t = np.linalg.inv(eigv)\n",
    "transed = np.matmul(Iv_t, np.vstack((x1_m, x2_m))).T\n",
    "prin1_coord = transed[:, 0]\n",
    "prin2_coord = transed[:, 1]\n",
    "np.vstack((prin1_coord, prin2_coord)).T"
   ]
  },
  {
   "cell_type": "code",
   "execution_count": 10,
   "metadata": {},
   "outputs": [
    {
     "name": "stdout",
     "output_type": "stream",
     "text": [
      "compare\n",
      "x1_mean: 8.0  ,x1_std: 4.600724580614087\n",
      "x2_mean: 3.0  ,x1_std: 4.396968652757639\n",
      "pc1_mean: 1.4802973661668753e-16  ,pc1_std: 5.946525218404135\n",
      "pc2_mean: 7.401486830834377e-17  ,pc2_std: 2.266900488968066\n"
     ]
    }
   ],
   "source": [
    "print('compare')\n",
    "print('x1_mean:', x1.mean(), ' ,x1_std:', x1.std())\n",
    "print('x2_mean:', x2.mean(), ' ,x1_std:', x2.std())\n",
    "print('pc1_mean:', prin1_coord.mean(), ' ,pc1_std:', prin1_coord.std())\n",
    "print('pc2_mean:', prin2_coord.mean(), ' ,pc2_std:', prin2_coord.std())"
   ]
  },
  {
   "cell_type": "code",
   "execution_count": 11,
   "metadata": {},
   "outputs": [
    {
     "name": "stdout",
     "output_type": "stream",
     "text": [
      "pearson correlation matrix\n",
      "[[ 1.00000000e+00  7.45620301e-01  9.41261828e-01 -3.37677614e-01]\n",
      " [ 7.45620301e-01  1.00000000e+00  9.26842511e-01  3.75450341e-01]\n",
      " [ 9.41261828e-01  9.26842511e-01  1.00000000e+00  1.48247376e-16]\n",
      " [-3.37677614e-01  3.75450341e-01  1.48247376e-16  1.00000000e+00]]\n"
     ]
    }
   ],
   "source": [
    "# 可以看出轉換前，x1和x2彼此之間有0.7的相關係數，代表他們有相關性。而轉換成的prin1和prin2的相關係數接近0\n",
    "print('pearson correlation matrix')\n",
    "print(np.corrcoef([x1_m, x2_m, prin1_coord, prin2_coord]))"
   ]
  },
  {
   "cell_type": "code",
   "execution_count": 12,
   "metadata": {},
   "outputs": [
    {
     "name": "stdout",
     "output_type": "stream",
     "text": [
      "ratio of total variance\n",
      "x1_m: 0.523 %\n",
      "x2_m: 0.477 %\n",
      "prin1_coord: 0.873 %\n",
      "prin2_coord: 0.127 %\n"
     ]
    }
   ],
   "source": [
    "# 轉換後的prin1比原本的x1或x2的解釋變異量都還大\n",
    "print('ratio of total variance')\n",
    "total_var = x1_m.var() + x2_m.var()\n",
    "print('x1_m: {:.3f} %'.format(x1_m.var() / total_var))\n",
    "print('x2_m: {:.3f} %'.format(x2_m.var() / total_var))\n",
    "print('prin1_coord: {:.3f} %'.format(prin1_coord.var() / total_var))\n",
    "print('prin2_coord: {:.3f} %'.format(prin2_coord.var() / total_var))"
   ]
  },
  {
   "cell_type": "code",
   "execution_count": 13,
   "metadata": {},
   "outputs": [
    {
     "data": {
      "image/png": "[encoded data removed]",
      "text/plain": [
       "<matplotlib.figure.Figure at 0x1b080b2d0b8>"
      ]
     },
     "metadata": {},
     "output_type": "display_data"
    }
   ],
   "source": [
    "fig, ax = plt.subplots(ncols=2, figsize=(8, 4))\n",
    "ax[0].scatter(x1_m, x2_m)\n",
    "ax[0].set_xlabel('x1')\n",
    "ax[0].set_ylabel('x2')\n",
    "ax[0].set_title('Before')\n",
    "\n",
    "ax[1].scatter(prin1_coord, prin2_coord)\n",
    "ax[1].set_xlabel('PC1')\n",
    "ax[1].set_ylabel('PC2')\n",
    "ax[1].set_title('After');"
   ]
  },
  {
   "cell_type": "code",
   "execution_count": null,
   "metadata": {
    "collapsed": true
   },
   "outputs": [],
   "source": []
  },
  {
   "cell_type": "markdown",
   "metadata": {
    "collapsed": true
   },
   "source": [
    "# Custom Class"
   ]
  },
  {
   "cell_type": "code",
   "execution_count": 14,
   "metadata": {
    "collapsed": true
   },
   "outputs": [],
   "source": [
    "import numpy as np\n",
    "\n",
    "class PrincipalComponentAnalysis:\n",
    "    def __init__(self, n_component):\n",
    "        self.n_component = n_component\n",
    "    \n",
    "    def fit(self, X):\n",
    "        self.X = X\n",
    "        self.mean_ = X.mean(axis=0)\n",
    "        self.covariance_ = np.cov(X, rowvar=False)\n",
    "        \n",
    "        eig, eigv = np.linalg.eig(self.covariance_)\n",
    "        idx = eig.argsort()[::-1]\n",
    "        eig = eig[idx]\n",
    "        eigv = eigv[:, idx]\n",
    "        self.explained_variance_ = eig[:self.n_component]\n",
    "        self.components_ = eigv[:, :self.n_component]   # self.component will be transpose to scikit-learn PCA \n",
    "        \n",
    "        self.explained_variance_ratio_ = (eig / eig.sum())[:self.n_component]\n",
    "        \n",
    "    def transform(self, X):\n",
    "        X = X - self.mean_\n",
    "        Iv_t = self.components_.T     # eigen vectors are orthogonal, so the inverse is equal to transpose\n",
    "        transed_x = np.matmul(Iv_t, X.T).T\n",
    "        return transed_x[:, :self.n_component]\n",
    "    \n",
    "    def fit_transform(self, X):\n",
    "        self.fit(X)\n",
    "        return self.transform(X)\n",
    "    \n",
    "    def inverse_transform(self, X):\n",
    "        Iv = self.components_\n",
    "        return np.matmul(X, Iv.T) + self.mean_"
   ]
  },
  {
   "cell_type": "markdown",
   "metadata": {
    "collapsed": true
   },
   "source": [
    "### test and compare to scikit-learn"
   ]
  },
  {
   "cell_type": "code",
   "execution_count": 15,
   "metadata": {},
   "outputs": [
    {
     "data": {
      "text/plain": [
       "array([[16,  8],\n",
       "       [12, 10],\n",
       "       [13,  6],\n",
       "       [11,  2],\n",
       "       [10,  8],\n",
       "       [ 9, -1],\n",
       "       [ 8,  4],\n",
       "       [ 7,  6],\n",
       "       [ 5, -3],\n",
       "       [ 3, -1],\n",
       "       [ 2, -3],\n",
       "       [ 0,  0]])"
      ]
     },
     "execution_count": 15,
     "metadata": {},
     "output_type": "execute_result"
    }
   ],
   "source": [
    "X = np.array([[16, 12, 13, 11, 10, 9, 8, 7, 5, 3, 2, 0], [8, 10, 6, 2, 8, -1, 4, 6, -3, -1, -3, 0]]).T\n",
    "X"
   ]
  },
  {
   "cell_type": "code",
   "execution_count": 16,
   "metadata": {},
   "outputs": [
    {
     "name": "stdout",
     "output_type": "stream",
     "text": [
      "covariance:\n",
      " [[23.09090909 16.45454545]\n",
      " [16.45454545 21.09090909]]\n",
      "\n",
      "components (eigv of covariance matrix):\n",
      " [[ 0.72823813 -0.68532417]\n",
      " [ 0.68532417  0.72823813]]\n",
      "\n",
      "explained variance (eig of covariance matrix):\n",
      " [38.57581328  5.6060049 ]\n",
      "\n",
      "explained variance ratio:\n",
      " [0.87311512 0.12688488]\n",
      "\n",
      "transform [[10, 20], [15, 12]] to new PC coorninate:\n",
      " [[13.10698718 11.00939994]\n",
      " [11.26558448  1.75687401]]\n",
      "\n",
      "inverse transform [[13.1, 11.0]] to original coornate:\n",
      " [[10.00135367 19.98836612]]\n"
     ]
    }
   ],
   "source": [
    "pca = PrincipalComponentAnalysis(n_component=2)\n",
    "pca.fit(X)\n",
    "\n",
    "print('covariance:\\n', pca.covariance_)\n",
    "print('\\ncomponents (eigv of covariance matrix):\\n', pca.components_)\n",
    "print('\\nexplained variance (eig of covariance matrix):\\n', pca.explained_variance_)\n",
    "print('\\nexplained variance ratio:\\n', pca.explained_variance_ratio_)\n",
    "print('\\ntransform [[10, 20], [15, 12]] to new PC coorninate:\\n', pca.transform(np.array([[10, 20], [15, 12]])))\n",
    "print('\\ninverse transform [[13.1, 11.0]] to original coornate:\\n', pca.inverse_transform(np.array([[13.1, 11.0]])))"
   ]
  },
  {
   "cell_type": "code",
   "execution_count": 17,
   "metadata": {},
   "outputs": [
    {
     "name": "stdout",
     "output_type": "stream",
     "text": [
      "covariance:\n",
      " [[23.09090909 16.45454545]\n",
      " [16.45454545 21.09090909]]\n",
      "\n",
      "components (eigv of covariance matrix):\n",
      " [[ 0.72823813  0.68532417]\n",
      " [ 0.68532417 -0.72823813]]\n",
      "\n",
      "explained variance (eig of covariance matrix): \n",
      " [38.57581328  5.6060049 ]\n",
      "\n",
      "explained variance ratio:\n",
      " [0.87311512 0.12688488]\n",
      "\n",
      "transform [[10, 20], [15, 12]] to new PC coorninate:\n",
      " [[ 13.10698718 -11.00939994]\n",
      " [ 11.26558448  -1.75687401]]\n",
      "\n",
      "inverse transform [[13.1, -11.0]] to original coornate:\n",
      " [[10.00135367 19.98836612]]\n"
     ]
    }
   ],
   "source": [
    "# compare to scikit-learn PCA\n",
    "from sklearn.decomposition import PCA\n",
    "\n",
    "pca = PCA(n_components=2)\n",
    "pca.fit(X)\n",
    "\n",
    "print('covariance:\\n', pca.get_covariance())\n",
    "print('\\ncomponents (eigv of covariance matrix):\\n', pca.components_)\n",
    "print('\\nexplained variance (eig of covariance matrix): \\n', pca.explained_variance_)\n",
    "print('\\nexplained variance ratio:\\n', pca.explained_variance_ratio_)\n",
    "print('\\ntransform [[10, 20], [15, 12]] to new PC coorninate:\\n', pca.transform(np.array([[10, 20], [15, 12]])))\n",
    "print('\\ninverse transform [[13.1, -11.0]] to original coornate:\\n', pca.inverse_transform(np.array([[13.1, -11.0]])))"
   ]
  },
  {
   "cell_type": "markdown",
   "metadata": {
    "collapsed": true
   },
   "source": [
    "### test 2"
   ]
  },
  {
   "cell_type": "code",
   "execution_count": 18,
   "metadata": {
    "collapsed": true
   },
   "outputs": [],
   "source": [
    "X = np.array([\n",
    "    [24.5, 94.5, 73.9, 80.1, 41.6],\n",
    "    [26.5, 91.0, 67.5, 74.6, 53.3],\n",
    "    [29.7, 100.8, 61.4, 104.0, 59.6],\n",
    "    [22.8, 86.6, 65.3, 118.4, 51.2],\n",
    "    [26.7, 86.7, 62.7, 105.9, 51.2], \n",
    "    [25.3, 102.5, 63.3, 99.3, 45.6],\n",
    "    [22.8, 88.8, 52.4, 110.9, 46.8],\n",
    "    [23.3, 85.5, 62.5, 117.9, 41.8],\n",
    "    [24.1, 93.7, 51.5, 109.7, 52.4],\n",
    "    [29.3, 105.9, 80.2, 133.2, 61.7],\n",
    "    [22.3, 83.6, 67.8, 108.6, 42.4],\n",
    "    [26.1, 88.9, 65.4, 100.9, 43.2],\n",
    "    [26.9, 89.3, 56.2, 82.7, 38.4],\n",
    "    [20.3, 89.6, 53.8, 111.8, 53.9],\n",
    "    [24.6, 92.2, 51.9, 106.0, 50.7],\n",
    "    [30.8, 110.7, 66.0, 107.3, 62.6],\n",
    "    [24.5, 92.3, 66.7, 98.0, 61.7],\n",
    "    [26.2, 95.4, 60.2, 117.1, 49.3],\n",
    "    [26.5, 92.4, 60.8, 115.1, 46.2],\n",
    "    [25.5, 83.7, 57.0, 92.8, 35.4],\n",
    "    [26.3, 87.1, 58.3, 101.8, 41.5],\n",
    "    [22.5, 77.7, 62.0, 91.1, 44.9],\n",
    "    [24.2, 93.8, 66.0, 81.6, 46.2]\n",
    "])"
   ]
  },
  {
   "cell_type": "code",
   "execution_count": 19,
   "metadata": {
    "collapsed": true
   },
   "outputs": [],
   "source": [
    "# unnormalize data\n",
    "pca = PrincipalComponentAnalysis(n_component=5)\n",
    "pca.fit(X)"
   ]
  },
  {
   "cell_type": "code",
   "execution_count": 20,
   "metadata": {},
   "outputs": [
    {
     "name": "stdout",
     "output_type": "stream",
     "text": [
      "unnormalize data\n",
      "\n",
      "covariance:\n",
      " [[  6.2844664   12.91096838   5.71905138   1.31037549   7.28513834]\n",
      " [ 12.91096838  57.07711462  17.50752964  22.69187747  36.29478261]\n",
      " [  5.71905138  17.50752964  48.30588933  -0.27503953  13.44347826]\n",
      " [  1.31037549  22.69187747  -0.27503953 202.75628458  38.76241107]\n",
      " [  7.28513834  36.29478261  13.44347826  38.76241107  57.80055336]]\n",
      "\n",
      "components (eigv of covariance matrix):\n",
      " [[-0.02848905 -0.16532108  0.02135748 -0.18972574 -0.96716354]\n",
      " [-0.2001224  -0.63218494  0.25420475 -0.65862454  0.24877074]\n",
      " [-0.0416723  -0.44215032 -0.88874949  0.10765906  0.03606094]\n",
      " [-0.93885906  0.31435473 -0.12135003 -0.06904699 -0.01521357]\n",
      " [-0.27558389 -0.52791603  0.36100184  0.71684022 -0.03429221]]\n",
      "\n",
      "explained variance (eig of covariance matrix): \n",
      " [218.99867893  91.72316894  37.66268981  20.81054128   3.02922934]\n",
      "\n",
      "explained variance ratio:\n",
      " [0.58835136 0.24641907 0.10118278 0.0559086  0.00813818]\n"
     ]
    }
   ],
   "source": [
    "print('unnormalize data\\n')\n",
    "\n",
    "print('covariance:\\n', pca.covariance_)\n",
    "print('\\ncomponents (eigv of covariance matrix):\\n', pca.components_)\n",
    "print('\\nexplained variance (eig of covariance matrix): \\n', pca.explained_variance_)\n",
    "print('\\nexplained variance ratio:\\n', pca.explained_variance_ratio_)"
   ]
  },
  {
   "cell_type": "code",
   "execution_count": 21,
   "metadata": {
    "collapsed": true
   },
   "outputs": [],
   "source": [
    "# use normalize\n",
    "X = (X - X.mean(axis=0)) / X.std(axis=0, ddof=1)"
   ]
  },
  {
   "cell_type": "code",
   "execution_count": 22,
   "metadata": {},
   "outputs": [
    {
     "name": "stdout",
     "output_type": "stream",
     "text": [
      "normalize data\n",
      "\n",
      "covariance:\n",
      " [[ 1.          0.68170049  0.32823868  0.03670916  0.38224129]\n",
      " [ 0.68170049  1.          0.33342167  0.21093676  0.63189831]\n",
      " [ 0.32823868  0.33342167  1.         -0.00277912  0.2544167 ]\n",
      " [ 0.03670916  0.21093676 -0.00277912  1.          0.3580615 ]\n",
      " [ 0.38224129  0.63189831  0.2544167   0.3580615   1.        ]]\n",
      "\n",
      "components (eigv of covariance matrix):\n",
      " [[ 0.49614868  0.30861972  0.38639398]\n",
      " [ 0.57570231  0.04380176  0.26247227]\n",
      " [ 0.33956956  0.43080905 -0.83463952]\n",
      " [ 0.22498981 -0.79677694 -0.29160659]\n",
      " [ 0.50643404 -0.28702846  0.01226602]]\n",
      "\n",
      "explained variance (eig of covariance matrix): \n",
      " [2.42246795 1.10467489 0.73848053]\n",
      "\n",
      "explained variance ratio:\n",
      " [0.48449359 0.22093498 0.14769611]\n",
      "\n",
      "transform [[10, 20, 30, 40, 50]] to new PC coorninate:\n",
      " [[ 60.98391422 -29.33599679 -26.97676336]]\n",
      "\n",
      "inverse transform [[61, -30, -27]] to original coornate:\n",
      " [[10.57384051 26.71703687 30.32473855 45.50106507 39.17214759]]\n"
     ]
    }
   ],
   "source": [
    "pca = PrincipalComponentAnalysis(n_component=3)\n",
    "pca.fit(X)\n",
    "\n",
    "print('normalize data\\n')\n",
    "print('covariance:\\n', pca.covariance_)\n",
    "print('\\ncomponents (eigv of covariance matrix):\\n', pca.components_)\n",
    "print('\\nexplained variance (eig of covariance matrix): \\n', pca.explained_variance_)\n",
    "print('\\nexplained variance ratio:\\n', pca.explained_variance_ratio_)\n",
    "print('\\ntransform [[10, 20, 30, 40, 50]] to new PC coorninate:\\n', pca.transform(np.array([[10, 20, 30, 40, 50]])))\n",
    "print('\\ninverse transform [[61, -30, -27]] to original coornate:\\n', pca.inverse_transform(np.array([[61, -30, -27]])))"
   ]
  },
  {
   "cell_type": "code",
   "execution_count": 23,
   "metadata": {},
   "outputs": [
    {
     "name": "stdout",
     "output_type": "stream",
     "text": [
      "scikit-learn normalize data\n",
      "\n",
      "covariance:\n",
      " [[ 0.99879996  0.63468264  0.32457909  0.00624347  0.45285432]\n",
      " [ 0.63468264  1.07537     0.33436626  0.21205787  0.59115099]\n",
      " [ 0.32457909  0.33436626  0.99970307 -0.0057585   0.2584509 ]\n",
      " [ 0.00624347  0.21205787 -0.0057585   0.97099597  0.4015171 ]\n",
      " [ 0.45285432  0.59115099  0.2584509   0.4015171   0.95513099]]\n",
      "\n",
      "components (eigv of covariance matrix):\n",
      " [[ 0.49614868  0.57570231  0.33956956  0.22498981  0.50643404]\n",
      " [ 0.30861972  0.04380176  0.43080905 -0.79677694 -0.28702846]\n",
      " [-0.38639398 -0.26247227  0.83463952  0.29160659 -0.01226602]]\n",
      "\n",
      "explained variance (eig of covariance matrix): \n",
      " [2.42246795 1.10467489 0.73848053]\n",
      "\n",
      "explained variance ratio:\n",
      " [0.48449359 0.22093498 0.14769611]\n",
      "\n",
      "transform [[10, 20, 30, 40, 50]] to new PC coorninate:\n",
      " [[ 60.98391422 -29.33599679  26.97676336]]\n",
      "\n",
      "inverse transform [[61, -30, -27]] to original coornate:\n",
      " [[10.57384051 26.71703687 30.32473855 45.50106507 39.17214759]]\n"
     ]
    }
   ],
   "source": [
    "# compare to scikit-learn PCA\n",
    "from sklearn.decomposition import PCA\n",
    "\n",
    "pca = PCA(n_components=3)\n",
    "pca.fit(X)\n",
    "\n",
    "print('scikit-learn normalize data\\n')\n",
    "print('covariance:\\n', pca.get_covariance())\n",
    "print('\\ncomponents (eigv of covariance matrix):\\n', pca.components_)\n",
    "print('\\nexplained variance (eig of covariance matrix): \\n', pca.explained_variance_)\n",
    "print('\\nexplained variance ratio:\\n', pca.explained_variance_ratio_)\n",
    "print('\\ntransform [[10, 20, 30, 40, 50]] to new PC coorninate:\\n', pca.transform(np.array([[10, 20, 30, 40, 50]])))\n",
    "print('\\ninverse transform [[61, -30, -27]] to original coornate:\\n', pca.inverse_transform(np.array([[61, -30, 27]])))"
   ]
  },
  {
   "cell_type": "code",
   "execution_count": null,
   "metadata": {
    "collapsed": true
   },
   "outputs": [],
   "source": []
  },
  {
   "cell_type": "code",
   "execution_count": null,
   "metadata": {
    "collapsed": true
   },
   "outputs": [],
   "source": []
  },
  {
   "cell_type": "code",
   "execution_count": null,
   "metadata": {
    "collapsed": true
   },
   "outputs": [],
   "source": []
  },
  {
   "cell_type": "markdown",
   "metadata": {},
   "source": [
    "# Scikit-learn PCA"
   ]
  },
  {
   "cell_type": "code",
   "execution_count": 24,
   "metadata": {
    "collapsed": true
   },
   "outputs": [],
   "source": [
    "from sklearn.decomposition import PCA"
   ]
  },
  {
   "cell_type": "code",
   "execution_count": 25,
   "metadata": {},
   "outputs": [
    {
     "data": {
      "text/plain": [
       "PCA(copy=True, iterated_power='auto', n_components=2, random_state=None,\n",
       "  svd_solver='auto', tol=0.0, whiten=False)"
      ]
     },
     "execution_count": 25,
     "metadata": {},
     "output_type": "execute_result"
    }
   ],
   "source": [
    "X = np.array([[16, 12, 13, 11, 10, 9, 8, 7, 5, 3, 2, 0], [8, 10, 6, 2, 8, -1, 4, 6, -3, -1, -3, 0]]).T\n",
    "pca = PCA(n_components=2)\n",
    "pca.fit(X)"
   ]
  },
  {
   "cell_type": "code",
   "execution_count": 26,
   "metadata": {},
   "outputs": [
    {
     "data": {
      "text/plain": [
       "array([[23.09090909, 16.45454545],\n",
       "       [16.45454545, 21.09090909]])"
      ]
     },
     "execution_count": 26,
     "metadata": {},
     "output_type": "execute_result"
    }
   ],
   "source": [
    "# 就是原本的covariance matrix\n",
    "pca.get_covariance()"
   ]
  },
  {
   "cell_type": "code",
   "execution_count": 27,
   "metadata": {},
   "outputs": [
    {
     "data": {
      "text/plain": [
       "array([38.57581328,  5.6060049 ])"
      ]
     },
     "execution_count": 27,
     "metadata": {},
     "output_type": "execute_result"
    }
   ],
   "source": [
    "# 解釋變異量就是eigenvalue\n",
    "pca.explained_variance_"
   ]
  },
  {
   "cell_type": "code",
   "execution_count": 28,
   "metadata": {},
   "outputs": [
    {
     "data": {
      "text/plain": [
       "array([[ 0.72823813,  0.68532417],\n",
       "       [ 0.68532417, -0.72823813]])"
      ]
     },
     "execution_count": 28,
     "metadata": {},
     "output_type": "execute_result"
    }
   ],
   "source": [
    "# 分量就是解covariance matrix的eigenvector\n",
    "pca.components_"
   ]
  },
  {
   "cell_type": "code",
   "execution_count": 29,
   "metadata": {},
   "outputs": [
    {
     "data": {
      "text/plain": [
       "array([0.87311512, 0.12688488])"
      ]
     },
     "execution_count": 29,
     "metadata": {},
     "output_type": "execute_result"
    }
   ],
   "source": [
    "# 這就是兩個新主成分各自的變異數佔總變異數的比例\n",
    "pca.explained_variance_ratio_"
   ]
  },
  {
   "cell_type": "code",
   "execution_count": 30,
   "metadata": {},
   "outputs": [
    {
     "data": {
      "text/plain": [
       "array([[ 9.25252593,  1.8414027 ],\n",
       "       [ 7.71022174, -2.35637025],\n",
       "       [ 5.69716318,  1.24190646],\n",
       "       [ 1.49939023,  2.78421065],\n",
       "       [ 4.88309713, -2.27054233],\n",
       "       [-2.01305855,  3.59827671],\n",
       "       [ 0.68532417, -0.72823813],\n",
       "       [ 1.32773438, -2.87003857],\n",
       "       [-6.29665943,  2.31345629],\n",
       "       [-6.38248736, -0.51366832],\n",
       "       [-8.48137383,  0.25748377],\n",
       "       [-7.88187759, -3.29787897]])"
      ]
     },
     "execution_count": 30,
     "metadata": {},
     "output_type": "execute_result"
    }
   ],
   "source": [
    "# 原本的座標經過PCA轉換過後的座標\n",
    "pca.fit_transform(np.vstack((x1_m, x2_m)).T)"
   ]
  },
  {
   "cell_type": "code",
   "execution_count": 31,
   "metadata": {},
   "outputs": [
    {
     "data": {
      "text/plain": [
       "array([[ 9.25252593],\n",
       "       [ 7.71022174],\n",
       "       [ 5.69716318],\n",
       "       [ 1.49939023],\n",
       "       [ 4.88309713],\n",
       "       [-2.01305855],\n",
       "       [ 0.68532417],\n",
       "       [ 1.32773438],\n",
       "       [-6.29665943],\n",
       "       [-6.38248736],\n",
       "       [-8.48137383],\n",
       "       [-7.88187759]])"
      ]
     },
     "execution_count": 31,
     "metadata": {},
     "output_type": "execute_result"
    }
   ],
   "source": [
    "# 所以如果要讓它降成一維，就會取變異量38.57的那個主成分\n",
    "pca = PCA(n_components=1)\n",
    "pca.fit_transform(X)"
   ]
  },
  {
   "cell_type": "code",
   "execution_count": null,
   "metadata": {
    "collapsed": true
   },
   "outputs": [],
   "source": []
  },
  {
   "cell_type": "code",
   "execution_count": null,
   "metadata": {
    "collapsed": true
   },
   "outputs": [],
   "source": []
  },
  {
   "cell_type": "code",
   "execution_count": null,
   "metadata": {
    "collapsed": true
   },
   "outputs": [],
   "source": []
  }
 ],
 "metadata": {
  "kernelspec": {
   "display_name": "Python 3",
   "language": "python",
   "name": "python3"
  },
  "language_info": {
   "codemirror_mode": {
    "name": "ipython",
    "version": 3
   },
   "file_extension": ".py",
   "mimetype": "text/x-python",
   "name": "python",
   "nbconvert_exporter": "python",
   "pygments_lexer": "ipython3",
   "version": "3.6.3"
  },
  "varInspector": {
   "cols": {
    "lenName": 16,
    "lenType": 16,
    "lenVar": 40
   },
   "kernels_config": {
    "python": {
     "delete_cmd_postfix": "",
     "delete_cmd_prefix": "del ",
     "library": "var_list.py",
     "varRefreshCmd": "print(var_dic_list())"
    },
    "r": {
     "delete_cmd_postfix": ") ",
     "delete_cmd_prefix": "rm(",
     "library": "var_list.r",
     "varRefreshCmd": "cat(var_dic_list()) "
    }
   },
   "types_to_exclude": [
    "module",
    "function",
    "builtin_function_or_method",
    "instance",
    "_Feature"
   ],
   "window_display": false
  }
 },
 "nbformat": 4,
 "nbformat_minor": 2
}
