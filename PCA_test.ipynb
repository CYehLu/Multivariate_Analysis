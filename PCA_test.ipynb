{
 "cells": [
  {
   "cell_type": "code",
   "execution_count": 4,
   "metadata": {},
   "outputs": [],
   "source": [
    "import numpy as np\n",
    "\n",
    "from PCA import PrincipalComponentAnalysis"
   ]
  },
  {
   "cell_type": "markdown",
   "metadata": {},
   "source": [
    "# Data 1"
   ]
  },
  {
   "cell_type": "code",
   "execution_count": 5,
   "metadata": {},
   "outputs": [
    {
     "data": {
      "text/plain": [
       "array([[16,  8],\n",
       "       [12, 10],\n",
       "       [13,  6],\n",
       "       [11,  2],\n",
       "       [10,  8],\n",
       "       [ 9, -1],\n",
       "       [ 8,  4],\n",
       "       [ 7,  6],\n",
       "       [ 5, -3],\n",
       "       [ 3, -1],\n",
       "       [ 2, -3],\n",
       "       [ 0,  0]])"
      ]
     },
     "execution_count": 5,
     "metadata": {},
     "output_type": "execute_result"
    }
   ],
   "source": [
    "X = np.array([[16, 12, 13, 11, 10, 9, 8, 7, 5, 3, 2, 0], [8, 10, 6, 2, 8, -1, 4, 6, -3, -1, -3, 0]]).T\n",
    "X"
   ]
  },
  {
   "cell_type": "code",
   "execution_count": 6,
   "metadata": {},
   "outputs": [
    {
     "name": "stdout",
     "output_type": "stream",
     "text": [
      "covariance:\n",
      " [[23.09090909 16.45454545]\n",
      " [16.45454545 21.09090909]]\n",
      "\n",
      "components (eigv of covariance matrix):\n",
      " [[ 0.72823813 -0.68532417]\n",
      " [ 0.68532417  0.72823813]]\n",
      "\n",
      "explained variance (eig of covariance matrix):\n",
      " [38.57581328  5.6060049 ]\n",
      "\n",
      "explained variance ratio:\n",
      " [0.87311512 0.12688488]\n",
      "\n",
      "transform [[10, 20], [15, 12]] to new PC coorninate:\n",
      " [[13.10698718 11.00939994]\n",
      " [11.26558448  1.75687401]]\n",
      "\n",
      "inverse transform [[13.1, 11.0]] to original coornate:\n",
      " [[10.00135367 19.98836612]]\n"
     ]
    }
   ],
   "source": [
    "pca = PrincipalComponentAnalysis(n_component=2)\n",
    "pca.fit(X)\n",
    "\n",
    "print('covariance:\\n', pca.covariance_)\n",
    "print('\\ncomponents (eigv of covariance matrix):\\n', pca.components_)\n",
    "print('\\nexplained variance (eig of covariance matrix):\\n', pca.explained_variance_)\n",
    "print('\\nexplained variance ratio:\\n', pca.explained_variance_ratio_)\n",
    "print('\\ntransform [[10, 20], [15, 12]] to new PC coorninate:\\n', pca.transform(np.array([[10, 20], [15, 12]])))\n",
    "print('\\ninverse transform [[13.1, 11.0]] to original coornate:\\n', pca.inverse_transform(np.array([[13.1, 11.0]])))"
   ]
  },
  {
   "cell_type": "markdown",
   "metadata": {},
   "source": [
    "### Compare to Scikit-Learn"
   ]
  },
  {
   "cell_type": "code",
   "execution_count": 8,
   "metadata": {},
   "outputs": [
    {
     "name": "stdout",
     "output_type": "stream",
     "text": [
      "covariance:\n",
      " [[23.09090909 16.45454545]\n",
      " [16.45454545 21.09090909]]\n",
      "\n",
      "components (eigv of covariance matrix):\n",
      " [[ 0.72823813  0.68532417]\n",
      " [ 0.68532417 -0.72823813]]\n",
      "\n",
      "explained variance (eig of covariance matrix): \n",
      " [38.57581328  5.6060049 ]\n",
      "\n",
      "explained variance ratio:\n",
      " [0.87311512 0.12688488]\n",
      "\n",
      "transform [[10, 20], [15, 12]] to new PC coorninate:\n",
      " [[ 13.10698718 -11.00939994]\n",
      " [ 11.26558448  -1.75687401]]\n",
      "\n",
      "inverse transform [[13.1, -11.0]] to original coornate:\n",
      " [[10.00135367 19.98836612]]\n"
     ]
    }
   ],
   "source": [
    "from sklearn.decomposition import PCA\n",
    "\n",
    "pca = PCA(n_components=2)\n",
    "pca.fit(X)\n",
    "\n",
    "print('covariance:\\n', pca.get_covariance())\n",
    "print('\\ncomponents (eigv of covariance matrix):\\n', pca.components_)\n",
    "print('\\nexplained variance (eig of covariance matrix): \\n', pca.explained_variance_)\n",
    "print('\\nexplained variance ratio:\\n', pca.explained_variance_ratio_)\n",
    "print('\\ntransform [[10, 20], [15, 12]] to new PC coorninate:\\n', pca.transform(np.array([[10, 20], [15, 12]])))\n",
    "print('\\ninverse transform [[13.1, -11.0]] to original coornate:\\n', pca.inverse_transform(np.array([[13.1, -11.0]])))"
   ]
  },
  {
   "cell_type": "markdown",
   "metadata": {},
   "source": [
    "  "
   ]
  },
  {
   "cell_type": "markdown",
   "metadata": {},
   "source": [
    "# Data 2"
   ]
  },
  {
   "cell_type": "code",
   "execution_count": 9,
   "metadata": {},
   "outputs": [],
   "source": [
    "X = np.array([\n",
    "    [24.5, 94.5, 73.9, 80.1, 41.6],\n",
    "    [26.5, 91.0, 67.5, 74.6, 53.3],\n",
    "    [29.7, 100.8, 61.4, 104.0, 59.6],\n",
    "    [22.8, 86.6, 65.3, 118.4, 51.2],\n",
    "    [26.7, 86.7, 62.7, 105.9, 51.2], \n",
    "    [25.3, 102.5, 63.3, 99.3, 45.6],\n",
    "    [22.8, 88.8, 52.4, 110.9, 46.8],\n",
    "    [23.3, 85.5, 62.5, 117.9, 41.8],\n",
    "    [24.1, 93.7, 51.5, 109.7, 52.4],\n",
    "    [29.3, 105.9, 80.2, 133.2, 61.7],\n",
    "    [22.3, 83.6, 67.8, 108.6, 42.4],\n",
    "    [26.1, 88.9, 65.4, 100.9, 43.2],\n",
    "    [26.9, 89.3, 56.2, 82.7, 38.4],\n",
    "    [20.3, 89.6, 53.8, 111.8, 53.9],\n",
    "    [24.6, 92.2, 51.9, 106.0, 50.7],\n",
    "    [30.8, 110.7, 66.0, 107.3, 62.6],\n",
    "    [24.5, 92.3, 66.7, 98.0, 61.7],\n",
    "    [26.2, 95.4, 60.2, 117.1, 49.3],\n",
    "    [26.5, 92.4, 60.8, 115.1, 46.2],\n",
    "    [25.5, 83.7, 57.0, 92.8, 35.4],\n",
    "    [26.3, 87.1, 58.3, 101.8, 41.5],\n",
    "    [22.5, 77.7, 62.0, 91.1, 44.9],\n",
    "    [24.2, 93.8, 66.0, 81.6, 46.2]\n",
    "])"
   ]
  },
  {
   "cell_type": "code",
   "execution_count": 10,
   "metadata": {},
   "outputs": [
    {
     "name": "stdout",
     "output_type": "stream",
     "text": [
      "unnormalize data\n",
      "\n",
      "covariance:\n",
      " [[  6.2844664   12.91096838   5.71905138   1.31037549   7.28513834]\n",
      " [ 12.91096838  57.07711462  17.50752964  22.69187747  36.29478261]\n",
      " [  5.71905138  17.50752964  48.30588933  -0.27503953  13.44347826]\n",
      " [  1.31037549  22.69187747  -0.27503953 202.75628458  38.76241107]\n",
      " [  7.28513834  36.29478261  13.44347826  38.76241107  57.80055336]]\n",
      "\n",
      "components (eigv of covariance matrix):\n",
      " [[-0.02848905 -0.16532108  0.02135748 -0.18972574 -0.96716354]\n",
      " [-0.2001224  -0.63218494  0.25420475 -0.65862454  0.24877074]\n",
      " [-0.0416723  -0.44215032 -0.88874949  0.10765906  0.03606094]\n",
      " [-0.93885906  0.31435473 -0.12135003 -0.06904699 -0.01521357]\n",
      " [-0.27558389 -0.52791603  0.36100184  0.71684022 -0.03429221]]\n",
      "\n",
      "explained variance (eig of covariance matrix): \n",
      " [218.99867893  91.72316894  37.66268981  20.81054128   3.02922934]\n",
      "\n",
      "explained variance ratio:\n",
      " [0.58835136 0.24641907 0.10118278 0.0559086  0.00813818]\n"
     ]
    }
   ],
   "source": [
    "# unnormalize data\n",
    "pca = PrincipalComponentAnalysis(n_component=5)\n",
    "pca.fit(X)\n",
    "\n",
    "print('unnormalize data\\n')\n",
    "print('covariance:\\n', pca.covariance_)\n",
    "print('\\ncomponents (eigv of covariance matrix):\\n', pca.components_)\n",
    "print('\\nexplained variance (eig of covariance matrix): \\n', pca.explained_variance_)\n",
    "print('\\nexplained variance ratio:\\n', pca.explained_variance_ratio_)"
   ]
  },
  {
   "cell_type": "code",
   "execution_count": 11,
   "metadata": {},
   "outputs": [
    {
     "name": "stdout",
     "output_type": "stream",
     "text": [
      "normalize data\n",
      "\n",
      "covariance:\n",
      " [[ 1.          0.68170049  0.32823868  0.03670916  0.38224129]\n",
      " [ 0.68170049  1.          0.33342167  0.21093676  0.63189831]\n",
      " [ 0.32823868  0.33342167  1.         -0.00277912  0.2544167 ]\n",
      " [ 0.03670916  0.21093676 -0.00277912  1.          0.3580615 ]\n",
      " [ 0.38224129  0.63189831  0.2544167   0.3580615   1.        ]]\n",
      "\n",
      "components (eigv of covariance matrix):\n",
      " [[ 0.49614868  0.30861972  0.38639398]\n",
      " [ 0.57570231  0.04380176  0.26247227]\n",
      " [ 0.33956956  0.43080905 -0.83463952]\n",
      " [ 0.22498981 -0.79677694 -0.29160659]\n",
      " [ 0.50643404 -0.28702846  0.01226602]]\n",
      "\n",
      "explained variance (eig of covariance matrix): \n",
      " [2.42246795 1.10467489 0.73848053]\n",
      "\n",
      "explained variance ratio:\n",
      " [0.48449359 0.22093498 0.14769611]\n",
      "\n",
      "transform [[10, 20, 30, 40, 50]] to new PC coorninate:\n",
      " [[ 60.98391422 -29.33599679 -26.97676336]]\n",
      "\n",
      "inverse transform [[61, -30, -27]] to original coornate:\n",
      " [[10.57384051 26.71703687 30.32473855 45.50106507 39.17214759]]\n"
     ]
    }
   ],
   "source": [
    "# use normalize\n",
    "X = (X - X.mean(axis=0)) / X.std(axis=0, ddof=1)\n",
    "\n",
    "pca = PrincipalComponentAnalysis(n_component=3)\n",
    "pca.fit(X)\n",
    "\n",
    "print('normalize data\\n')\n",
    "print('covariance:\\n', pca.covariance_)\n",
    "print('\\ncomponents (eigv of covariance matrix):\\n', pca.components_)\n",
    "print('\\nexplained variance (eig of covariance matrix): \\n', pca.explained_variance_)\n",
    "print('\\nexplained variance ratio:\\n', pca.explained_variance_ratio_)\n",
    "print('\\ntransform [[10, 20, 30, 40, 50]] to new PC coorninate:\\n', pca.transform(np.array([[10, 20, 30, 40, 50]])))\n",
    "print('\\ninverse transform [[61, -30, -27]] to original coornate:\\n', pca.inverse_transform(np.array([[61, -30, -27]])))"
   ]
  },
  {
   "cell_type": "markdown",
   "metadata": {},
   "source": [
    "### Compare to Scikit-Learn"
   ]
  },
  {
   "cell_type": "code",
   "execution_count": 13,
   "metadata": {},
   "outputs": [
    {
     "name": "stdout",
     "output_type": "stream",
     "text": [
      "scikit-learn normalize data\n",
      "\n",
      "covariance:\n",
      " [[ 0.99879996  0.63468264  0.32457909  0.00624347  0.45285432]\n",
      " [ 0.63468264  1.07537     0.33436626  0.21205787  0.59115099]\n",
      " [ 0.32457909  0.33436626  0.99970307 -0.0057585   0.2584509 ]\n",
      " [ 0.00624347  0.21205787 -0.0057585   0.97099597  0.4015171 ]\n",
      " [ 0.45285432  0.59115099  0.2584509   0.4015171   0.95513099]]\n",
      "\n",
      "components (eigv of covariance matrix):\n",
      " [[ 0.49614868  0.57570231  0.33956956  0.22498981  0.50643404]\n",
      " [ 0.30861972  0.04380176  0.43080905 -0.79677694 -0.28702846]\n",
      " [-0.38639398 -0.26247227  0.83463952  0.29160659 -0.01226602]]\n",
      "\n",
      "explained variance (eig of covariance matrix): \n",
      " [2.42246795 1.10467489 0.73848053]\n",
      "\n",
      "explained variance ratio:\n",
      " [0.48449359 0.22093498 0.14769611]\n",
      "\n",
      "transform [[10, 20, 30, 40, 50]] to new PC coorninate:\n",
      " [[ 60.98391422 -29.33599679  26.97676336]]\n",
      "\n",
      "inverse transform [[61, -30, -27]] to original coornate:\n",
      " [[10.57384051 26.71703687 30.32473855 45.50106507 39.17214759]]\n"
     ]
    }
   ],
   "source": [
    "# compare to scikit-learn PCA\n",
    "from sklearn.decomposition import PCA\n",
    "\n",
    "pca = PCA(n_components=3)\n",
    "pca.fit(X)\n",
    "\n",
    "print('scikit-learn normalize data\\n')\n",
    "print('covariance:\\n', pca.get_covariance())\n",
    "print('\\ncomponents (eigv of covariance matrix):\\n', pca.components_)\n",
    "print('\\nexplained variance (eig of covariance matrix): \\n', pca.explained_variance_)\n",
    "print('\\nexplained variance ratio:\\n', pca.explained_variance_ratio_)\n",
    "print('\\ntransform [[10, 20, 30, 40, 50]] to new PC coorninate:\\n', pca.transform(np.array([[10, 20, 30, 40, 50]])))\n",
    "print('\\ninverse transform [[61, -30, -27]] to original coornate:\\n', pca.inverse_transform(np.array([[61, -30, 27]])))"
   ]
  }
 ],
 "metadata": {
  "kernelspec": {
   "display_name": "Python 3",
   "language": "python",
   "name": "python3"
  },
  "language_info": {
   "codemirror_mode": {
    "name": "ipython",
    "version": 3
   },
   "file_extension": ".py",
   "mimetype": "text/x-python",
   "name": "python",
   "nbconvert_exporter": "python",
   "pygments_lexer": "ipython3",
   "version": "3.6.3"
  }
 },
 "nbformat": 4,
 "nbformat_minor": 2
}
